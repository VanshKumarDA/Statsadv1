{
  "nbformat": 4,
  "nbformat_minor": 0,
  "metadata": {
    "colab": {
      "provenance": []
    },
    "kernelspec": {
      "name": "python3",
      "display_name": "Python 3"
    },
    "language_info": {
      "name": "python"
    }
  },
  "cells": [
    {
      "cell_type": "markdown",
      "source": [
        "1. What is a random variable in probability theory?\n",
        "\n",
        " A random variable in probability theory is a variable that assigns a numerical value to the outcome of a random experiment."
      ],
      "metadata": {
        "id": "Lj5mAfF6vh3_"
      }
    },
    {
      "cell_type": "markdown",
      "source": [
        "2. What are the types of random variables?\n",
        "\n",
        " There are two main types: Discrete Random Variable(Takes countable values), Continuous Random Variable(Takes uncountable/infinite values in an interval)."
      ],
      "metadata": {
        "id": "vXuGIKZAviB_"
      }
    },
    {
      "cell_type": "markdown",
      "source": [
        "3. What is diff. b/w discrete and continuous distributions?\n",
        " Discrete Distribution - Takes countable values (like integers), Assigned to individual values, Sum of probabilities is 1, Uses a Probability Mass Function (PMF), Binomial, Poisson, Geometric, Number of heads in 3 coin tosses → X = 0, 1\n",
        ",\n",
        "2\n",
        ",\n",
        "3\n",
        "X=0,1,2,3.\n",
        "Each value has a specific probability.  Continuous Distribution - Takes uncountable/infinite values in a range, Measured over intervals, not individual values, Area under the PDF curve equals 1."
      ],
      "metadata": {
        "id": "N71sHufNviJf"
      }
    },
    {
      "cell_type": "markdown",
      "source": [
        "4. What are Probability Distribution Functions(PDF)?\n",
        "\n",
        " A Probability Density Function (PDF) describes the likelihood of a continuous random variable taking on a value within a certain range. For continuous variables, the probability at a single point is always zero. The PDF is used to find probability over an interval."
      ],
      "metadata": {
        "id": "JrzypBtlviRO"
      }
    },
    {
      "cell_type": "markdown",
      "source": [
        "5. How do cumulative distribution functions(CDF) differ from PDF?\n",
        "\n",
        " PDF shows how densely probability is distributed at each point, Continuous random variables, Height of the curve; not actual probability at a point.  CDF (Cumulative Distribution Function) gives the probability that the variable is less than or equal to a value, Both discrete and continuous variables, Area under the PDF curve from\n",
        "−\n",
        "∞\n",
        "−∞ to\n",
        "𝑥\n",
        "x"
      ],
      "metadata": {
        "id": "t-18kiP2viY2"
      }
    },
    {
      "cell_type": "markdown",
      "source": [
        "6. What is a discrete uniform distribution?\n",
        "\n",
        " The Discrete Uniform Distribution is one of the simplest and most intuitive probability distributions in statistics. A discrete uniform distribution assigns equal probability to each outcome in a finite set of n distinct values."
      ],
      "metadata": {
        "id": "zzoPasZXvie2"
      }
    },
    {
      "cell_type": "markdown",
      "source": [
        "7. What are the key properties of a Bernoulli distribution?\n",
        "\n",
        " The Bernoulli distribution is one of the most fundamental distributions in probability and statistics. It's used to model binary (two-outcome) experiments. Parameter\n",
        "𝑝\n",
        "∈\n",
        "[\n",
        "0\n",
        ",\n",
        "1\n",
        "]\n",
        "p∈[0,1] (probability of success)\n",
        "Support\n",
        "𝑥\n",
        "∈\n",
        "{\n",
        "0\n",
        ",\n",
        "1\n",
        "}\n",
        "x∈{0,1}\n",
        "Mean (Expected Value)\n",
        "𝐸\n",
        "(\n",
        "𝑋\n",
        ")\n",
        "=\n",
        "𝑝\n",
        "E(X)=p"
      ],
      "metadata": {
        "id": "sFBlB1azvikv"
      }
    },
    {
      "cell_type": "markdown",
      "source": [
        "8. What is the binomial distribution, and how is it used in probability?\n",
        "\n",
        " The Binomial Distribution is a fundamental probability distribution that models the number of successes in a fixed number of independent Bernoulli trials. Examples: Number of heads in 10 coin tosses, Number of defective products in a batch of 20. Conditions for using the Binomial Distribution:\n",
        "Fixed number of trials 𝑛 n, Each trial is independent, Each trial has only two outcomes (success/failure), Probability of success 𝑝 p is the same for each trial."
      ],
      "metadata": {
        "id": "o-KIFOdxvirm"
      }
    },
    {
      "cell_type": "markdown",
      "source": [
        "9. What is the Poisson distribution and where is it applied?\n",
        "\n",
        " The Poisson distribution models the number of times an event occurs in a fixed interval of time, distance, area, or volume, when events happen independently. The Poisson distribution is widely used in modeling rare or random events, such as: Call Center, Website Traffic, Manufacturing, Astronomy, Healthcare etc."
      ],
      "metadata": {
        "id": "d9PbUhfpvixX"
      }
    },
    {
      "cell_type": "markdown",
      "source": [
        "10. What is a continuous uniform distribution?\n",
        "\n",
        " A continuous uniform distribution describes a situation where all values in a continuous interval are equally likely.\n",
        "\n",
        "If a random variable\n",
        "𝑋\n",
        "X follows a uniform distribution over the interval\n",
        "[\n",
        "𝑎\n",
        ",\n",
        "𝑏\n",
        "]\n",
        "[a,b], it's written as:\n",
        "\n",
        "𝑋\n",
        "∼\n",
        "𝑈\n",
        "(\n",
        "𝑎\n",
        ",\n",
        "𝑏\n",
        ")\n",
        "X∼U(a,b)"
      ],
      "metadata": {
        "id": "OUJo1mXWvi3P"
      }
    },
    {
      "cell_type": "markdown",
      "source": [
        "11. What are the characterstics of a normal distribution?\n",
        "\n",
        " Symmetry - Perfectly symmetric around the mean\n",
        "𝜇\n",
        "μ. Bell-shaped - The curve is highest at the mean and tails off equally in both directions. Mean = Median = Mode - All are located at the center\n",
        "𝜇\n",
        "μ."
      ],
      "metadata": {
        "id": "hvr9vLwMvi-T"
      }
    },
    {
      "cell_type": "markdown",
      "source": [
        "12. What is the standard normal distribution, and why is it important?\n",
        "\n",
        " The Standard Normal Distribution is a special case of the normal distribution and plays a central role in statistics, especially in hypothesis testing and confidence intervals. Reason, why is it important - Z-scores(You can standardize any normal variable), Common Table(Probabilities and percentiles of normal data are usually calculated using Z-tables, which are based on the standard normal distribution.), Hypothesis Testing (Used to compute p-values and critical values in many statistical tests (e.g., z-test)."
      ],
      "metadata": {
        "id": "y_ldcuOb15ia"
      }
    },
    {
      "cell_type": "markdown",
      "source": [
        "13. What is a central limit Theorem (CLT), and why is it critical in statistics?\n",
        "\n",
        " The Central Limit Theorem (CLT) is one of the most powerful and foundational theorems in statistics — it's what makes much of modern statistical inference possible. If you take many random samples of size\n",
        "𝑛\n",
        "n from any population (with a finite mean\n",
        "𝜇\n",
        "μ and variance\n",
        "𝜎\n",
        "2\n",
        "σ\n",
        "2\n",
        " ), then the sampling distribution of the sample mean\n",
        "𝑋\n",
        "ˉ\n",
        "X\n",
        "ˉ\n",
        "  will approach a normal distribution as\n",
        "𝑛\n",
        "n becomes large — regardless of the population's original distribution. It is critical because Even if the population is not normally distributed, we can use the normal distribution to model the sample mean when\n",
        "𝑛\n",
        "n is large and it's the reason we can create confidence intervals, perform z-tests and t-tests, and compute p-values."
      ],
      "metadata": {
        "id": "Y2vParH7153Q"
      }
    },
    {
      "cell_type": "markdown",
      "source": [
        "14. What is the application of Z statistics in hypothesis testing?\n",
        "\n",
        " A Z-statistic measures how far (in standard deviations) a sample statistic (like a sample mean) is from the population parameter under the null hypothesis. CLT ensures sample mean is approximately normal, Single or two-s."
      ],
      "metadata": {
        "id": "lEGfy9Hx16yw"
      }
    },
    {
      "cell_type": "markdown",
      "source": [
        "15. What are point estimates and interval estimates?\n",
        "\n",
        " A point estimate is a single value used to estimate a population parameter.\n",
        "  \n",
        "  An interval estimate gives a range of values (an interval) within which the population parameter is likely to fall, along with a confidence level (e.g., 95%)."
      ],
      "metadata": {
        "id": "o96j8eAG17CR"
      }
    }
  ]
}